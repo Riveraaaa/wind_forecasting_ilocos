# %% 
import matplotlib.pyplot as plt
import seaborn as sns
import pandas as pd
import numpy as np
from sklearn.ensemble import RandomForestRegressor
from sklearn.metrics import mean_absolute_error, mean_squared_error, r2_score
from sklearn.model_selection import GridSearchCV
from scipy.stats import skew, kurtosis

sns.set(style="whitegrid")

def load_and_prepare_data(filepath):
    """Load a CSV, parse dates, set index, check columns, and transform wind direction."""
    cols_needed = [
        "Time", "temperature_2m", "relativehumidity_2m", "dewpoint_2m", 
        "windspeed_10m", "windspeed_100m", "winddirection_10m", "winddirection_100m", 
        "windgusts_10m", "Power"
    ]
    
    df = pd.read_csv(filepath)
    missing_cols = [c for c in cols_needed if c not in df.columns]
    if missing_cols:
        print(f"Missing columns in {filepath}: {missing_cols}")
        return None
    
    df["Time"] = pd.to_datetime(df["Time"])
    df = df.set_index("Time").sort_index()
    
    for col in ["winddirection_10m", "winddirection_100m"]:
        rad = np.deg2rad(df[col])
        df[col + "_sin"] = np.sin(rad)
        df[col + "_cos"] = np.cos(rad)
    
    return df

def eda(df, loc):
    """EDA and statistical analysis."""
    print(f"\n--- EDA for {loc} ---")
    
    # Distribution analysis
    skewness = skew(df["Power"])
    kurt = kurtosis(df["Power"])
    print(f"Skewness of Power: {skewness:.2f}")
    print(f"Kurtosis of Power: {kurt:.2f}")
    
    # Distribution characteristics
    if skewness > 1:
        print("Distribution: RIGHT-SKEWED → many low-output hours, rare high-power peaks.")
    elif skewness < -1:
        print("Distribution: LEFT-SKEWED → frequent high outputs, rare low periods.")
    else:
        print("Distribution: roughly NORMAL or moderately skewed.")
    
    # Check for multi-modality
    hist, bins = np.histogram(df["Power"], bins=50)
    peaks = []
    for i in range(1, len(hist)-1):
        if hist[i] > hist[i-1] and hist[i] > hist[i+1] and hist[i] > max(hist)*0.1:
            peaks.append(i)
    
    if len(peaks) > 1:
        print("Distribution appears MULTI-MODAL (multiple peaks detected).")
    
    # Wind resource analysis
    print("Wind Resource Conditions Analysis:")
    if skewness > 0.5:
        print("  - Right skew indicates INTERMITTENT wind resource")
        print("  - Many calm periods with occasional strong wind events")
        print("  - Typical of variable wind regimes with weather-dependent patterns")
    
    if len(peaks) > 1:
        print("  - Multi-modal pattern suggests DISTINCT operating modes:")
        print("    * Low wind periods (turbines idle/low output)")
        print("    * Optimal wind periods (rated power generation)")
        print("    * Possible seasonal/diurnal wind patterns")
    
    print("  - Overall: Wind resource shows natural variability with seasonal/weather influences")
    
    # Correlation analysis
    corr = df.corr(numeric_only=True)["Power"].drop("Power").abs().sort_values(ascending=False)
    print("\nMost Predictive Variables:")
    print(corr.head(8))
    
    print("Why these variables are most predictive:")
    top_predictors = corr.head(5)
    for var, corr_val in top_predictors.items():
        if 'windspeed' in var.lower():
            print(f"  - {var} ({corr_val:.3f}): Wind speed has CUBIC relationship with power")
            print("    Power ∝ wind_speed³, making it the strongest predictor")
        elif 'gust' in var.lower():
            print(f"  - {var} ({corr_val:.3f}): Wind gusts indicate peak wind events")
            print("    Strong gusts often coincide with maximum power generation")
        elif 'direction' in var.lower():
            print(f"  - {var} ({corr_val:.3f}): Wind direction affects turbine efficiency")
            print("    Optimal directions align with turbine orientation")
        elif 'temperature' in var.lower():
            print(f"  - {var} ({corr_val:.3f}): Air density affects power (ρ = 1.225 * T)")
            print("    Colder air = higher density = more power extraction")
    
    plt.figure(figsize=(10, 8))
    sns.heatmap(df.corr(numeric_only=True), cmap="coolwarm", center=0, annot=True, fmt='.2f')
    plt.title(f"Correlation Heatmap - {loc}")
    plt.show()
    
    return df

def feature_engineering(df):
    """Add lag features and targets for forecasting."""
    for lag in [1, 24]:
        df[f"lag_{lag}"] = df["Power"].shift(lag)
    
    df["rolling_mean_24"] = df["Power"].rolling(window=24).mean()
    df["hour"] = df.index.hour
    df["dayofweek"] = df.index.dayofweek
    df["month"] = df.index.month
    df["target_1"] = df["Power"].shift(-1)
    df["target_24"] = df["Power"].shift(-24)
    
    return df.dropna()

def get_features_targets(df, horizon):
    weather_cols = [
        "temperature_2m", "relativehumidity_2m", "dewpoint_2m",
        "windspeed_10m", "windspeed_100m", "windgusts_10m",
        "winddirection_10m_sin", "winddirection_10m_cos",
        "winddirection_100m_sin", "winddirection_100m_cos"
    ]
    lag_cols = ["lag_1", "lag_24", "rolling_mean_24", "hour", "dayofweek"]
    
    X = df[weather_cols + lag_cols]
    y = df[f"target_{horizon}"]
    
    return X, y

def train_model(X_train, y_train):
    param_grid = {"n_estimators": [100], "max_depth": [10, None]}
    rf = RandomForestRegressor(random_state=42, n_jobs=-1)
    grid = GridSearchCV(rf, param_grid, cv=3, n_jobs=-1, scoring="neg_mean_absolute_error")
    grid.fit(X_train, y_train)
    return grid.best_estimator_

def evaluate(y_true, y_pred, kind, loc):
    """Evaluate model performance with comprehensive metrics."""
    mae = mean_absolute_error(y_true, y_pred)
    rmse = mean_squared_error(y_true, y_pred, squared=False)
    r2 = r2_score(y_true, y_pred)
    
    # Additional performance metrics
    mape = np.mean(np.abs((y_true - y_pred) / np.where(y_true != 0, y_true, 1))) * 100
    
    print(f"\nMODEL EVALUATION - {kind} - {loc}")
    print(f"MAE: {mae:.3f} MW")
    print(f"RMSE: {rmse:.3f} MW") 
    print(f"R²: {r2:.3f} (explains {r2*100:.1f}% of variance)")
    print(f"MAPE: {mape:.1f}%")
    
    # Performance interpretation
    if r2 > 0.8:
        print("MODEL QUALITY: EXCELLENT - Very strong predictive power")
    elif r2 > 0.6:
        print("MODEL QUALITY: GOOD - Strong predictive capability")
    elif r2 > 0.4:
        print("MODEL QUALITY: MODERATE - Reasonable forecasting ability")
    else:
        print("MODEL QUALITY: POOR - Limited predictive value")
    
    # Actual vs predicted
    plt.figure(figsize=(15, 5))
    
    # Time series plot
    plt.subplot(1, 3, 1)
    plt.plot(y_true.values[:200], label="Actual", linewidth=2)
    plt.plot(y_pred[:200], label="Predicted", linewidth=2, alpha=0.8)
    plt.title(f'{kind} Forecast\n{loc} (first 200 steps)')
    plt.xlabel('Time Steps')
    plt.ylabel('Power (MW)')
    plt.legend()
    plt.grid(True, alpha=0.3)
    
    # Scatter plot
    plt.subplot(1, 3, 2)
    plt.scatter(y_true, y_pred, alpha=0.5)
    plt.plot([y_true.min(), y_true.max()], [y_true.min(), y_true.max()], 'r--', linewidth=2)
    plt.xlabel('Actual Power (MW)')
    plt.ylabel('Predicted Power (MW)')
    plt.title('Actual vs Predicted')
    plt.grid(True, alpha=0.3)
    
    # Residuals
    plt.subplot(1, 3, 3)
    residuals = y_true - y_pred
    plt.hist(residuals, bins=30, alpha=0.7, edgecolor='black')
    plt.xlabel('Residuals (MW)')
    plt.ylabel('Frequency')
    plt.title('Residual Distribution')
    plt.axvline(0, color='red', linestyle='--', linewidth=2)
    plt.grid(True, alpha=0.3)
    
    plt.tight_layout()
    plt.show()
    
    return mae, rmse, r2

def estimate_lost_energy(y_true, y_pred, timestep_hr=1, wesm_price=5000):
    """Lost energy analysis (proxy for unserved generation)."""
    lost = (y_true - y_pred).clip(lower=0).sum() * timestep_hr
    cost = lost * wesm_price
    
    # Additional analysis
    total_actual = y_true.sum() * timestep_hr
    lost_percentage = (lost / total_actual) * 100 if total_actual > 0 else 0
    
    print(f"\nLOST ENERGY ANALYSIS:")
    print(f"  - Total actual generation: {total_actual:.2f} MWh")
    print(f"  - Lost energy (underprediction): {lost:.2f} MWh")
    print(f"  - Lost energy percentage: {lost_percentage:.2f}%")
    print(f"  - Economic impact: PHP {cost:,.0f}")
    
    # Identify anomalous periods
    errors = y_true - y_pred
    large_errors = errors[errors > errors.quantile(0.95)]
    
    if len(large_errors) > 0:
        print(f"  - Anomalous periods identified: {len(large_errors)} instances")
        print(f"  - Average error in anomalous periods: {large_errors.mean():.2f} MW")
        print(f"  - Maximum single-period loss: {large_errors.max():.2f} MW")
        anomalous_lost = large_errors.sum() * timestep_hr
        print(f"  - Energy lost in anomalous periods: {anomalous_lost:.2f} MWh")
        print(f"  - Cost of anomalous periods: PHP {anomalous_lost * wesm_price:,.0f}")
    
    return lost, cost

def plot_power_distribution_analysis(all_data):
    """Generate power distribution analysis similar to the provided image style."""
    if not all_data:
        print("No data available for distribution analysis")
        return
    
    # Prepare data
    distribution_data = []
    for loc, df in all_data.items():
        df_copy = df.copy()
        df_copy['Location'] = loc.replace('.csv', '').replace('Location', 'loc')
        df_copy['Year'] = df_copy.index.year
        distribution_data.append(df_copy[['Power', 'Location', 'Year']])
    
    combined_df = pd.concat(distribution_data)
    
    # Create the clean power distribution plot
    plt.figure(figsize=(14, 8))
    
    # Calculate annual means for line plot
    annual_means = combined_df.groupby(['Year', 'Location'])['Power'].mean().reset_index()
    
    # Create line plot similar to the style in your image
    sns.lineplot(data=annual_means, x='Year', y='Power', hue='Location', 
                marker='o', linewidth=2.5, markersize=8)
    
    plt.title('Annual Trend of Power Generation Across Locations', fontsize=14, pad=20)
    plt.xlabel('Year', fontsize=12)
    plt.ylabel('Mean Power', fontsize=12)
    plt.legend(title='Location', title_fontsize=12, fontsize=11)
    plt.grid(True, alpha=0.7)
    
    # Set integer years on x-axis
    years = sorted(annual_means['Year'].unique())
    plt.xticks(years)
    
    plt.tight_layout()
    plt.show()
    
    # Create total power generation bar chart (similar to second image style)
    plt.figure(figsize=(12, 8))
    
    # Calculate total generation per year per location
    annual_totals = combined_df.groupby(['Year', 'Location'])['Power'].sum().reset_index()
    annual_totals['Power_Generated'] = annual_totals['Power']  # Keep original units
    
    # Create bar plot
    sns.barplot(data=annual_totals, x='Year', y='Power_Generated', hue='Location')
    
    plt.title('Total Power Generation Per Year Across Locations', fontsize=14, pad=20)
    plt.xlabel('Year', fontsize=12)
    plt.ylabel('Total Power Generated', fontsize=12)
    plt.legend(title='Location', title_fontsize=12, fontsize=11, 
              bbox_to_anchor=(1.05, 1), loc='upper left')
    plt.grid(True, alpha=0.3, axis='y')
    
    plt.tight_layout()
    plt.show()
    
    # Print summary statistics
    print("\n=== POWER GENERATION STATISTICS BY LOCATION AND YEAR ===")
    stats_summary = combined_df.groupby(['Location', 'Year'])['Power'].agg([
        ('Mean', 'mean'),
        ('Std', 'std'), 
        ('Min', 'min'),
        ('Max', 'max'),
        ('Total', 'sum')
    ]).round(3)
    
    print(stats_summary)

def plot_wind_speed_trend_analysis(all_data):
    """Generate wind speed trend analysis similar to the requested style."""
    if not all_data:
        print("No data available for wind speed analysis")
        return
    
    # Prepare wind speed data
    wind_data = []
    for loc, df in all_data.items():
        df_copy = df.copy()
        df_copy['Location'] = loc.replace('.csv', '').replace('Location', 'loc')
        df_copy['Year'] = df_copy.index.year
        wind_data.append(df_copy[['windspeed_100m', 'windspeed_10m', 'Location', 'Year']])
    
    combined_wind = pd.concat(wind_data)
    
    # Calculate annual means
    annual_wind_means = combined_wind.groupby(['Year', 'Location']).agg({
        'windspeed_100m': 'mean',
        'windspeed_10m': 'mean'
    }).reset_index()
    
    # Wind Speed at 100m trend
    plt.figure(figsize=(12, 6))
    sns.lineplot(data=annual_wind_means, x='Year', y='windspeed_100m', 
                hue='Location', marker='o', linewidth=2.5, markersize=8)
    plt.xlabel("Year", fontsize=12)
    plt.ylabel("Mean Wind Speed (100m)", fontsize=12)
    plt.title("Annual Trend of Wind Speed Across Locations", fontsize=14)
    plt.legend(title="Location", title_fontsize=12, fontsize=11)
    plt.grid(True, alpha=0.7)
    plt.tight_layout()
    plt.show()
    
    # Wind Speed at 10m trend  
    plt.figure(figsize=(12, 6))
    sns.lineplot(data=annual_wind_means, x='Year', y='windspeed_10m', 
                hue='Location', marker='s', linewidth=2.5, markersize=8)
    plt.xlabel("Year", fontsize=12)
    plt.ylabel("Mean Wind Speed (10m)", fontsize=12)
    plt.title("Annual Trend of Wind Speed (10m) Across Locations", fontsize=14)
    plt.legend(title="Location", title_fontsize=12, fontsize=11)
    plt.grid(True, alpha=0.7)
    plt.tight_layout()
    plt.show()
    
    # Combined wind speed comparison
    plt.figure(figsize=(15, 6))
    
    # Melt data for easier plotting
    wind_melted = annual_wind_means.melt(
        id_vars=['Year', 'Location'], 
        value_vars=['windspeed_10m', 'windspeed_100m'],
        var_name='Height', 
        value_name='Wind_Speed'
    )
    wind_melted['Height'] = wind_melted['Height'].map({
        'windspeed_10m': '10m',
        'windspeed_100m': '100m'
    })
    
    sns.lineplot(data=wind_melted, x='Year', y='Wind_Speed', 
                hue='Location', style='Height', markers=True, 
                linewidth=2.5, markersize=8)
    plt.xlabel("Year", fontsize=12)
    plt.ylabel("Mean Wind Speed (m/s)", fontsize=12)
    plt.title("Annual Wind Speed Comparison: 10m vs 100m Heights", fontsize=14)
    plt.legend(title="Location & Height", bbox_to_anchor=(1.05, 1), loc='upper left')
    plt.grid(True, alpha=0.7)
    plt.tight_layout()
    plt.show()
    
    return annual_wind_means

def analyze_monthly_patterns(all_data):
    """Monthly output pattern analysis."""
    if not all_data:
        return
    
    print("\n" + "="*60)
    print("MONTHLY OUTPUT PATTERNS ANALYSIS")
    print("="*60)
    
    # Prepare monthly data
    monthly_data = []
    for loc, df in all_data.items():
        df_copy = df.copy()
        df_copy['Location'] = loc.replace('.csv', '').replace('Location', 'loc')
        df_copy['Month'] = df_copy.index.month
        df_copy['Month_Name'] = df_copy.index.strftime('%B')
        monthly_data.append(df_copy[['Power', 'Location', 'Month', 'Month_Name']])
    
    combined_monthly = pd.concat(monthly_data)
    
    # Calculate monthly averages
    monthly_avg = combined_monthly.groupby(['Location', 'Month', 'Month_Name'])['Power'].agg([
        'mean', 'std', 'max'
    ]).reset_index()
    
    # Overall monthly pattern
    overall_monthly = combined_monthly.groupby(['Month', 'Month_Name'])['Power'].mean().reset_index()
    
    print("Monthly Output Analysis")
    print("\nOverall Monthly Averages (All Locations):")
    for _, row in overall_monthly.iterrows():
        print(f"  {row['Month_Name']}: {row['Power']:.2f} MW")
    
    # Find peak and low months
    peak_months = overall_monthly.nlargest(3, 'Power')
    low_months = overall_monthly.nsmallest(3, 'Power')
    
    print(f"\nCONCLUSION:")
    print(f"HIGHEST OUTPUT MONTHS:")
    for _, row in peak_months.iterrows():
        print(f"  - {row['Month_Name']}: {row['Power']:.2f} MW")
    
    print(f"LOWEST OUTPUT MONTHS:")
    for _, row in low_months.iterrows():
        print(f"  - {row['Month_Name']}: {row['Power']:.2f} MW")
    
    # Statistical significance test
    seasonal_variance = overall_monthly['Power'].std()
    mean_power = overall_monthly['Power'].mean()
    cv = seasonal_variance / mean_power
    
    print(f"\nSeasonal Variability:")
    print(f"  - Coefficient of Variation: {cv:.3f}")
    if cv > 0.2:
        print("  - HIGH seasonal variation - wind patterns show strong monthly differences")
    elif cv > 0.1:
        print("  - MODERATE seasonal variation - noticeable monthly differences")
    else:
        print("  - LOW seasonal variation - consistent year-round wind resource")
    
    # Visualization
    plt.figure(figsize=(14, 6))
    sns.boxplot(data=combined_monthly, x='Month', y='Power', hue='Location')
    plt.title('Monthly Power Output Distribution by Location')
    plt.xlabel('Month')
    plt.ylabel('Power (MW)')
    plt.xticks(range(12), ['Jan', 'Feb', 'Mar', 'Apr', 'May', 'Jun',
                          'Jul', 'Aug', 'Sep', 'Oct', 'Nov', 'Dec'])
    plt.legend(title='Location', bbox_to_anchor=(1.05, 1), loc='upper left')
    plt.grid(True, alpha=0.3)
    plt.tight_layout()
    plt.show()
    
    return monthly_avg

def main(locations, wesm_price=5000, timestep_hr=1):
    results_summary = []
    all_data = {}
    
    for loc in locations:
        print(f"\n{'='*60}\nProcessing {loc}\n{'='*60}")
        
        df = load_and_prepare_data(loc)
        if df is None:
            continue
        
        # Store original data
        all_data[loc] = df.copy()
        
        # EDA
        df = eda(df, loc)
        
        # Forecasting prep
        df = feature_engineering(df)
        split = int(len(df) * 0.8)
        
        # Hour-ahead
        X, y = get_features_targets(df, horizon=1)
        model = train_model(X[:split], y[:split])
        y_pred = model.predict(X[split:])
        mae, rmse, r2 = evaluate(y[split:], y_pred, "Hour-ahead", loc)
        lost, cost = estimate_lost_energy(y[split:], y_pred, timestep_hr, wesm_price)
        print(f"Hour-ahead lost MWh = {lost:.2f}, Cost: ~PHP {cost:,.0f}")
        
        # Day-ahead
        Xd, yd = get_features_targets(df, horizon=24)
        model_d = train_model(Xd[:split], yd[:split])
        yd_pred = model_d.predict(Xd[split:])
        mae_d, rmse_d, r2_d = evaluate(yd[split:], yd_pred, "Day-ahead", loc)
        lost_d, cost_d = estimate_lost_energy(yd[split:], yd_pred, timestep_hr, wesm_price)
        print(f"Day-ahead lost MWh = {lost_d:.2f}, Cost: ~PHP {cost_d:,.0f}")
        
        results_summary.append({
            "Location": loc,
            "Hour_MAE": mae,
            "Hour_R2": r2,
            "Hour_Lost_MWh": lost,
            "Hour_Cost_PHP": cost,
            "Day_MAE": mae_d,
            "Day_R2": r2_d,
            "Day_Lost_MWh": lost_d,
            "Day_Cost_PHP": cost_d
        })
    
    # Generate clean analysis plots
    print("\n" + "="*60)
    print("GENERATING POWER DISTRIBUTION ANALYSIS")
    print("="*60)
    plot_power_distribution_analysis(all_data)
    
    print("\n" + "="*60)
    print("GENERATING WIND SPEED TREND ANALYSIS")
    print("="*60)
    wind_analysis = plot_wind_speed_trend_analysis(all_data)
    
    print("\n" + "="*60)
    print("MONTHLY PATTERN ANALYSIS")
    print("="*60)
    monthly_analysis = analyze_monthly_patterns(all_data)
    
    print("\n=== SUMMARY ===")
    summary_df = pd.DataFrame(results_summary).round(3)
    print(summary_df)
    
    return summary_df, wind_analysis

# %%
if __name__ == "__main__":
    locations = ["Location1.csv", "Location2.csv", "Location3.csv", "Location4.csv"]
    summary_results, wind_results = main(locations, wesm_price=5000, timestep_hr=1)
